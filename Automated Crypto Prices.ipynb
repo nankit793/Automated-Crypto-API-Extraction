{
 "cells": [
  {
   "cell_type": "code",
   "execution_count": null,
   "id": "a0356862",
   "metadata": {},
   "outputs": [],
   "source": [
    "from requests import Request, Session\n",
    "from requests.exceptions import ConnectionError, Timeout, TooManyRedirects\n",
    "import json\n",
    "import pandas as pd\n",
    "\n",
    "#  initial api calling     \n",
    "url = 'https://pro-api.coinmarketcap.com/v1/cryptocurrency/listings/latest' \n",
    "parameters = {\n",
    "  'start':'1',\n",
    "  'limit':'15',\n",
    "  'convert':'USD'\n",
    "}\n",
    "headers = {\n",
    "  'Accepts': 'application/json',\n",
    "  'X-CMC_PRO_API_KEY': '0ad53085-1cb2-4eb8-ad9e-3ffbd7e56509',\n",
    "}\n",
    "\n",
    "session = Session()\n",
    "session.headers.update(headers)\n",
    "\n",
    "try:\n",
    "  response = session.get(url, params=parameters)\n",
    "  data = json.loads(response.text)\n",
    "  #print(data)\n",
    "except (ConnectionError, Timeout, TooManyRedirects) as e:\n",
    "  print(e)\n"
   ]
  },
  {
   "cell_type": "code",
   "execution_count": null,
   "id": "78ff72bc",
   "metadata": {},
   "outputs": [],
   "source": [
    "#This will allow us to see all the columns and rows\n",
    "pd.set_option('display.max_columns', None)\n",
    "pd.set_option('display.max_rows', None)"
   ]
  },
  {
   "cell_type": "code",
   "execution_count": null,
   "id": "ba0c5ee5",
   "metadata": {},
   "outputs": [],
   "source": [
    "# normalizing the data for better view \n",
    "df = pd.json_normalize(data['data'])\n",
    "df['timestamp'] = pd.Timestamp('now')\n",
    "df"
   ]
  },
  {
   "cell_type": "code",
   "execution_count": null,
   "id": "78fffc7b",
   "metadata": {},
   "outputs": [],
   "source": [
    "def api_runner():\n",
    "    global df\n",
    "    url = 'https://pro-api.coinmarketcap.com/v1/cryptocurrency/listings/latest' \n",
    "    #Original Sandbox Environment: 'https://sandbox-api.coinmarketcap.com/v1/cryptocurrency/listings/latest'\n",
    "    parameters = {\n",
    "      'start':'1',\n",
    "      'limit':'15',\n",
    "      'convert':'USD'\n",
    "    }\n",
    "    headers = {\n",
    "      'Accepts': 'application/json',\n",
    "      'X-CMC_PRO_API_KEY': '0ad53085-1cb2-4eb8-ad9e-3ffbd7e56509',\n",
    "    }\n",
    "\n",
    "    session = Session()\n",
    "    session.headers.update(headers)\n",
    "\n",
    "    try:\n",
    "      response = session.get(url, params=parameters)\n",
    "      data = json.loads(response.text)\n",
    "      #print(data)\n",
    "    except (ConnectionError, Timeout, TooManyRedirects) as e:\n",
    "      print(e)\n",
    "\n",
    "    df = pd.json_normalize(data['data'])\n",
    "    df['Timestamp'] = pd.to_datetime('now')\n",
    "\n",
    "    \n",
    "    if not os.path.isfile(r\"C:\\Users\\Ankit Negi\\Desktop\\numpy\\api.csv\"):\n",
    "        df.to_csv(r\"C:\\Users\\Ankit Negi\\Desktop\\numpy\\api.csv\", header='column_names')\n",
    "    else:\n",
    "        df.to_csv(r\"C:\\Users\\Ankit Negi\\Desktop\\numpy\\api.csv\",mode=\"a\", header=False)"
   ]
  },
  {
   "cell_type": "code",
   "execution_count": null,
   "id": "bd75a771",
   "metadata": {},
   "outputs": [],
   "source": [
    "\n",
    "\n",
    "import os \n",
    "from time import time\n",
    "from time import sleep\n",
    "\n",
    "for i in range(333):\n",
    "    api_runner()\n",
    "    print('API Runner completed')\n",
    "    sleep(60) #sleep for 1 minute\n",
    "exit()\n",
    "\n"
   ]
  },
  {
   "cell_type": "code",
   "execution_count": null,
   "id": "2b4563b6",
   "metadata": {},
   "outputs": [],
   "source": [
    "pd.read_csv(r\"C:\\Users\\Ankit Negi\\Desktop\\numpy\\api.csv\")"
   ]
  },
  {
   "cell_type": "code",
   "execution_count": null,
   "id": "0b810a82",
   "metadata": {},
   "outputs": [],
   "source": [
    "pd.set_option('display.float_format', lambda x: '%.5f' % x)"
   ]
  },
  {
   "cell_type": "code",
   "execution_count": null,
   "id": "559d265f",
   "metadata": {},
   "outputs": [],
   "source": [
    "df2 = df.groupby(['name'], sort=False)[['quote.USD.percent_change_1h', 'quote.USD.percent_change_24h', \"quote.USD.percent_change_7d\", 'quote.USD.percent_change_30d']].mean()"
   ]
  },
  {
   "cell_type": "code",
   "execution_count": null,
   "id": "53b3d3b2",
   "metadata": {},
   "outputs": [],
   "source": [
    "df2.reset_index()\n",
    "df2"
   ]
  },
  {
   "cell_type": "code",
   "execution_count": null,
   "id": "3dfc3025",
   "metadata": {},
   "outputs": [],
   "source": [
    "Index = pd.Index(range(90))"
   ]
  },
  {
   "cell_type": "code",
   "execution_count": null,
   "id": "25bc3f23",
   "metadata": {},
   "outputs": [],
   "source": [
    "df3 = df2.stack()\n",
    "df3\n",
    "type(df3)"
   ]
  },
  {
   "cell_type": "code",
   "execution_count": null,
   "id": "915b9abb",
   "metadata": {},
   "outputs": [],
   "source": [
    "df4 = df3.to_frame(name='values')\n",
    "df4.reset_index()\n",
    "df4"
   ]
  },
  {
   "cell_type": "code",
   "execution_count": null,
   "id": "366cde41",
   "metadata": {},
   "outputs": [],
   "source": [
    "Index = pd.Index(range(90))\n",
    "Index"
   ]
  },
  {
   "cell_type": "code",
   "execution_count": null,
   "id": "2e5bf952",
   "metadata": {},
   "outputs": [],
   "source": [
    "df5 = df4.reset_index()"
   ]
  },
  {
   "cell_type": "code",
   "execution_count": null,
   "id": "c4d4031b",
   "metadata": {},
   "outputs": [],
   "source": [
    "df5"
   ]
  },
  {
   "cell_type": "code",
   "execution_count": null,
   "id": "c004317d",
   "metadata": {},
   "outputs": [],
   "source": [
    "df6= df5.rename(columns={'level_1': 'percent_change'})\n",
    "df6['percent_change'] = df6['percent_change'].replace(['quote.USD.percent_change_1h','quote.USD.percent_change_24h','quote.USD.percent_change_7d','quote.USD.percent_change_30d','quote.USD.percent_change_60d','quote.USD.percent_change_90d'],['1h','24h','7d','30d','60d','90d'])\n",
    "df6"
   ]
  },
  {
   "cell_type": "code",
   "execution_count": null,
   "id": "40b39246",
   "metadata": {},
   "outputs": [],
   "source": [
    "import seaborn as sns\n",
    "import matplotlib.pyplot as plt"
   ]
  },
  {
   "cell_type": "code",
   "execution_count": null,
   "id": "dd94d595",
   "metadata": {},
   "outputs": [],
   "source": [
    "sns.catplot(x=\"percent_change\", y=\"values\", hue=\"name\", data=df6, kind=\"point\", height=5)"
   ]
  },
  {
   "cell_type": "code",
   "execution_count": null,
   "id": "756e45bb",
   "metadata": {},
   "outputs": [],
   "source": [
    "df7 = df6[['name', 'values']]\n",
    "df7"
   ]
  },
  {
   "cell_type": "code",
   "execution_count": null,
   "id": "63c053b0",
   "metadata": {},
   "outputs": [],
   "source": [
    "sns.set_theme(style=\"darkgrid\")\n",
    "\n",
    "sns.lineplot(x='name', y='values', data = df7)"
   ]
  },
  {
   "cell_type": "code",
   "execution_count": null,
   "id": "d7523133",
   "metadata": {},
   "outputs": [],
   "source": []
  }
 ],
 "metadata": {
  "kernelspec": {
   "display_name": "Python 3 (ipykernel)",
   "language": "python",
   "name": "python3"
  },
  "language_info": {
   "codemirror_mode": {
    "name": "ipython",
    "version": 3
   },
   "file_extension": ".py",
   "mimetype": "text/x-python",
   "name": "python",
   "nbconvert_exporter": "python",
   "pygments_lexer": "ipython3",
   "version": "3.10.9"
  }
 },
 "nbformat": 4,
 "nbformat_minor": 5
}
